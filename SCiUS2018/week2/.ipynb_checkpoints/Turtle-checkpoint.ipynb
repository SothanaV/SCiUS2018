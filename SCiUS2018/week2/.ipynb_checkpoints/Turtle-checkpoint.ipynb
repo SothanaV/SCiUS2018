{
 "cells": [
  {
   "cell_type": "code",
   "execution_count": null,
   "metadata": {
    "collapsed": true
   },
   "outputs": [],
   "source": [
    "'''\n",
    "01_line\n",
    "\n",
    "sample python\n",
    "\n",
    "'''\n",
    "\n",
    "from turtle import *\n",
    "\n",
    "forward(100)\n",
    "\n",
    "exitonclick()"
   ]
  },
  {
   "cell_type": "code",
   "execution_count": null,
   "metadata": {
    "collapsed": true
   },
   "outputs": [],
   "source": [
    "'''\n",
    "    triangle\n",
    "'''\n",
    "from turtle import *\n",
    "\n",
    "forward(100)\n",
    "right(120)\n",
    "forward(100)\n",
    "right(120)\n",
    "forward(100)\n",
    "right(120)\n",
    "\n",
    "\n",
    "exitonclick()"
   ]
  },
  {
   "cell_type": "code",
   "execution_count": null,
   "metadata": {
    "collapsed": true
   },
   "outputs": [],
   "source": [
    "'''\n",
    "ADD COLOR\n",
    "add (outline,fill)\n",
    "  https://htmlcolorcodes.com/\n",
    "color('red', 'yellow')\n",
    "\n",
    "'''\n",
    "\n",
    "from turtle import *\n",
    "color('red', 'yellow')\n",
    "begin_fill()\n",
    "forward(100)\n",
    "right(120)\n",
    "forward(100)\n",
    "right(120)\n",
    "forward(100)\n",
    "right(120)\n",
    "end_fill()\n",
    "\n",
    "exitonclick()"
   ]
  },
  {
   "cell_type": "code",
   "execution_count": 10,
   "metadata": {
    "collapsed": true
   },
   "outputs": [],
   "source": [
    "'''\n",
    "02_triangle\n",
    "\n",
    "function\n",
    "\n",
    "'''\n",
    "\n",
    "from turtle import *\n",
    "def tri(size):\n",
    "    forward(size)\n",
    "    right(120)\n",
    "    forward(size)\n",
    "    right(120)\n",
    "    forward(size)\n",
    "    right(120)\n",
    "    \n",
    "tri(50)\n",
    "\n",
    "\n",
    "exitonclick()"
   ]
  },
  {
   "cell_type": "code",
   "execution_count": 12,
   "metadata": {
    "collapsed": true
   },
   "outputs": [],
   "source": [
    "'''\n",
    "03_square Fn\n",
    "'''\n",
    "\n",
    "\n",
    "from turtle import *\n",
    "def square(size):\n",
    "    forward(size)\n",
    "    right(90)\n",
    "    forward(size)\n",
    "    right(90)\n",
    "    forward(size)\n",
    "    right(90)\n",
    "    forward(size)\n",
    "    right(90)\n",
    "    \n",
    "square(50)\n",
    "\n",
    "\n",
    "exitonclick()"
   ]
  },
  {
   "cell_type": "code",
   "execution_count": 11,
   "metadata": {
    "collapsed": true
   },
   "outputs": [],
   "source": [
    "'''\n",
    "04_triangle-for loop\n",
    "'''\n",
    "\n",
    "from turtle import *\n",
    "def tri(size):\n",
    "    for i in range(3):\n",
    "        forward(size)\n",
    "        right(120)\n",
    "        \n",
    "tri(50)\n",
    "\n",
    "exitonclick()"
   ]
  },
  {
   "cell_type": "code",
   "execution_count": 13,
   "metadata": {
    "collapsed": true
   },
   "outputs": [],
   "source": [
    "'''\n",
    "05_square-for loop\n",
    "'''\n",
    "\n",
    "from turtle import *\n",
    "def square(size):\n",
    "    for i in range(4):\n",
    "        forward(size)\n",
    "        right(90)\n",
    "        \n",
    "square(50)\n",
    "\n",
    "exitonclick()"
   ]
  },
  {
   "cell_type": "code",
   "execution_count": 14,
   "metadata": {
    "collapsed": true
   },
   "outputs": [],
   "source": [
    "'''\n",
    "06_geo \n",
    "'''\n",
    "\n",
    "from turtle import *\n",
    "def geo(size,n):\n",
    "    for i in range(n):\n",
    "        forward(size)\n",
    "        right(360/n)\n",
    "geo(0.5,6)\n",
    "\n",
    "exitonclick()"
   ]
  },
  {
   "cell_type": "code",
   "execution_count": 1,
   "metadata": {
    "collapsed": true
   },
   "outputs": [],
   "source": [
    "'''\n",
    "07_turtle !!!can Skip!!!\n",
    "\n",
    "For Loop again\n",
    "'''\n",
    "\n",
    "from turtle import *\n",
    "forward(100)\n",
    "left(30)\n",
    "for i in range(3):\n",
    "    forward(100)\n",
    "    right(120)\n",
    "    \n",
    "exitonclick()"
   ]
  },
  {
   "cell_type": "code",
   "execution_count": null,
   "metadata": {
    "collapsed": true
   },
   "outputs": [],
   "source": [
    "'''\n",
    "08_function\n",
    "\n",
    "Fn and For loop\n",
    "\n",
    "'''\n",
    "from turtle import *\n",
    "def leaf():\n",
    "    forward(100)\n",
    "    left(30)\n",
    "    for i in range(3):\n",
    "        forward(100)\n",
    "        right(120)\n",
    "        \n",
    "leaf()\n",
    "\n",
    "exitonclick()"
   ]
  },
  {
   "cell_type": "code",
   "execution_count": 6,
   "metadata": {
    "collapsed": true
   },
   "outputs": [],
   "source": [
    "'''\n",
    "!!!can Skip!!!\n",
    "'''\n",
    "\n",
    "from turtle import *\n",
    "def leaf():\n",
    "    forward(100)\n",
    "    left(30)\n",
    "    for i in range(3):\n",
    "        forward(100)\n",
    "        right(120)\n",
    "    right(30)\n",
    "    backward(100)\n",
    "    right(90)\n",
    "    \n",
    "leaf()\n",
    "leaf()\n",
    "\n",
    "exitonclick()"
   ]
  },
  {
   "cell_type": "code",
   "execution_count": 1,
   "metadata": {
    "collapsed": true
   },
   "outputs": [],
   "source": [
    "'''\n",
    "!!!can Skip!!!\n",
    "'''\n",
    "\n",
    "from turtle import *\n",
    "def leaf(size):\n",
    "    forward(size)\n",
    "    left(30)\n",
    "    for i in range(3):\n",
    "        forward(size)\n",
    "        right(120)\n",
    "        \n",
    "leaf(100)\n",
    "\n",
    "exitonclick()"
   ]
  },
  {
   "cell_type": "code",
   "execution_count": 3,
   "metadata": {
    "collapsed": true
   },
   "outputs": [],
   "source": [
    "'''\n",
    "11_leaf-arg set0\n",
    "set 0 at setpos\n",
    "\n",
    "'''\n",
    "\n",
    "from turtle import *\n",
    "\n",
    "def leaf(size):\n",
    "    init_pos=pos()\n",
    "    init_head=heading()\n",
    "    forward(size)\n",
    "    left(30)\n",
    "    for i in range(3):\n",
    "        forward(size)\n",
    "        right(120)\n",
    "    setpos(init_pos)\n",
    "    setheading(init_head)\n",
    "    \n",
    "leaf(100)\n",
    "\n",
    "exitonclick()"
   ]
  },
  {
   "cell_type": "code",
   "execution_count": 5,
   "metadata": {
    "collapsed": true
   },
   "outputs": [],
   "source": [
    "'''\n",
    "12_branch Fn call Fn\n",
    "\n",
    "'''\n",
    "\n",
    "from turtle import *\n",
    "\n",
    "def branch(size):\n",
    "    init_pos=pos()\n",
    "    init_head=heading()\n",
    "    forward(size*0.75)\n",
    "    left(45)\n",
    "    for i in range(3):\n",
    "        leaf(size*0.25)\n",
    "        right(45)\n",
    "    setpos(init_pos)\n",
    "    setheading(init_head)\n",
    "def leaf(size):\n",
    "    init_pos=pos()\n",
    "    init_head=heading()\n",
    "    forward(size)\n",
    "    left(30)\n",
    "    for i in range(3):\n",
    "        forward(size)\n",
    "        right(120)\n",
    "    setpos(init_pos)\n",
    "    setheading(init_head)\n",
    "\n",
    "branch(100)\n",
    "\n",
    "exitonclick()"
   ]
  },
  {
   "cell_type": "code",
   "execution_count": 7,
   "metadata": {
    "collapsed": true
   },
   "outputs": [],
   "source": [
    "'''\n",
    "fn in fn in fn\n",
    "'''\n",
    "from turtle import *\n",
    "\n",
    "def tree(size):\n",
    "    left(90)\n",
    "    init_pos=pos()\n",
    "    init_head=heading()\n",
    "    forward(size*0.5)\n",
    "    left(45)\n",
    "    for i in range(3):\n",
    "        branch(size*0.5)\n",
    "        right(45)\n",
    "    setpos(init_pos)\n",
    "    setheading(init_head)\n",
    "def branch(size):\n",
    "    init_pos=pos()\n",
    "    init_head=heading()\n",
    "    forward(size*0.75)\n",
    "    left(45)\n",
    "    for i in range(3):\n",
    "        leaf(size*0.25)\n",
    "        right(45)\n",
    "    setpos(init_pos)\n",
    "    setheading(init_head)\n",
    "def leaf(size):\n",
    "    init_pos=pos()\n",
    "    init_head=heading()\n",
    "    forward(size)\n",
    "    left(30)\n",
    "    for i in range(3):\n",
    "        forward(size)\n",
    "        right(120)\n",
    "    setpos(init_pos)\n",
    "    setheading(init_head)\n",
    "\n",
    "tree(50)\n",
    "\n",
    "\n",
    "exitonclick()"
   ]
  },
  {
   "cell_type": "code",
   "execution_count": null,
   "metadata": {
    "collapsed": true
   },
   "outputs": [],
   "source": [
    "'''\n",
    "Hard\n",
    "'''\n",
    "\n",
    "from turtle import *\n",
    "def branch(size):\n",
    "    if size<2:\n",
    "        return\n",
    "    else:\n",
    "        forward(size*0.4)\n",
    "        init_pos=pos()\n",
    "        init_head=heading()\n",
    "        \n",
    "        left(15)\n",
    "        forward(size*0.5)\n",
    "        branch(size*0.5)\n",
    "        \n",
    "        penup()\n",
    "        setpos(init_pos)\n",
    "        setheading(init_head)\n",
    "        pendown()\n",
    "        \n",
    "        right(20)\n",
    "        forward(size*0.5)\n",
    "        branch(size*0.5)\n",
    "        \n",
    "        penup()\n",
    "        setpos(init_pos)\n",
    "        setheading(init_head)\n",
    "        pendown()\n",
    "        \n",
    "size=128\n",
    "penup()\n",
    "setpos((0,-size))\n",
    "setheading(90)\n",
    "pendown()\n",
    "branch(size)\n",
    "setpos((0,-size))\n",
    "\n",
    "exitonclick()"
   ]
  },
  {
   "cell_type": "code",
   "execution_count": 2,
   "metadata": {},
   "outputs": [],
   "source": [
    "'''\n",
    "circle(radius)\n",
    "\n",
    "'''\n",
    "from turtle import *\n",
    "\n",
    "circle(10)\n",
    "\n",
    "exitonclick()"
   ]
  },
  {
   "cell_type": "code",
   "execution_count": 3,
   "metadata": {},
   "outputs": [],
   "source": []
  },
  {
   "cell_type": "code",
   "execution_count": null,
   "metadata": {
    "collapsed": true
   },
   "outputs": [],
   "source": []
  }
 ],
 "metadata": {
  "kernelspec": {
   "display_name": "Python 3",
   "language": "python",
   "name": "python3"
  },
  "language_info": {
   "codemirror_mode": {
    "name": "ipython",
    "version": 3
   },
   "file_extension": ".py",
   "mimetype": "text/x-python",
   "name": "python",
   "nbconvert_exporter": "python",
   "pygments_lexer": "ipython3",
   "version": "3.6.3"
  }
 },
 "nbformat": 4,
 "nbformat_minor": 2
}
