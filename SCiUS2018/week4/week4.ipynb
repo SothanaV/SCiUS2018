{
 "cells": [
  {
   "cell_type": "markdown",
   "metadata": {},
   "source": [
    "# INPUT"
   ]
  },
  {
   "cell_type": "code",
   "execution_count": 1,
   "metadata": {},
   "outputs": [
    {
     "name": "stdout",
     "output_type": "stream",
     "text": [
      "Enter some text20\n",
      "20\n"
     ]
    }
   ],
   "source": [
    "text = input(\"Enter some text\")\n",
    "print(text)"
   ]
  },
  {
   "cell_type": "markdown",
   "metadata": {},
   "source": [
    "# Split"
   ]
  },
  {
   "cell_type": "code",
   "execution_count": 25,
   "metadata": {},
   "outputs": [
    {
     "data": {
      "text/plain": [
       "['abcde', 'qwer', 'xyz', '555']"
      ]
     },
     "execution_count": 25,
     "metadata": {},
     "output_type": "execute_result"
    }
   ],
   "source": [
    "x = 'abcde1qwer1xyz1555'\n",
    "x.split('1')"
   ]
  },
  {
   "cell_type": "markdown",
   "metadata": {},
   "source": [
    "# Modulation"
   ]
  },
  {
   "cell_type": "code",
   "execution_count": 5,
   "metadata": {},
   "outputs": [
    {
     "data": {
      "text/plain": [
       "2"
      ]
     },
     "execution_count": 5,
     "metadata": {},
     "output_type": "execute_result"
    }
   ],
   "source": [
    "2%3"
   ]
  },
  {
   "cell_type": "code",
   "execution_count": 6,
   "metadata": {},
   "outputs": [
    {
     "data": {
      "text/plain": [
       "0"
      ]
     },
     "execution_count": 6,
     "metadata": {},
     "output_type": "execute_result"
    }
   ],
   "source": [
    "2%2"
   ]
  },
  {
   "cell_type": "markdown",
   "metadata": {},
   "source": [
    "# IF ELSE"
   ]
  },
  {
   "cell_type": "code",
   "execution_count": 3,
   "metadata": {},
   "outputs": [
    {
     "name": "stdout",
     "output_type": "stream",
     "text": [
      "Enter some number : 6\n",
      "Odd number\n"
     ]
    }
   ],
   "source": [
    "number = input(\"Enter some number : \")\n",
    "n = int(number) or float(number)\n",
    "if n%2==0:\n",
    "    print(\"Odd number\")\n",
    "else:\n",
    "    print(\"Even number\")"
   ]
  },
  {
   "cell_type": "markdown",
   "metadata": {},
   "source": [
    "# For loop"
   ]
  },
  {
   "cell_type": "code",
   "execution_count": 1,
   "metadata": {},
   "outputs": [
    {
     "name": "stdout",
     "output_type": "stream",
     "text": [
      "0\n",
      "1\n",
      "2\n",
      "3\n",
      "4\n",
      "5\n",
      "6\n",
      "7\n",
      "8\n",
      "9\n"
     ]
    }
   ],
   "source": [
    "for i in range(10):\n",
    "    print(i)"
   ]
  },
  {
   "cell_type": "code",
   "execution_count": 11,
   "metadata": {},
   "outputs": [
    {
     "name": "stdout",
     "output_type": "stream",
     "text": [
      "2\n",
      "5\n",
      "8\n",
      "11\n",
      "14\n",
      "17\n",
      "20\n",
      "23\n",
      "26\n",
      "29\n",
      "32\n",
      "35\n",
      "38\n",
      "41\n",
      "44\n",
      "47\n"
     ]
    }
   ],
   "source": [
    "for i in range(2,50,3):\n",
    "    print(i)"
   ]
  },
  {
   "cell_type": "code",
   "execution_count": 12,
   "metadata": {},
   "outputs": [
    {
     "name": "stdout",
     "output_type": "stream",
     "text": [
      "100\n",
      "90\n",
      "80\n",
      "70\n",
      "60\n",
      "50\n",
      "40\n",
      "30\n",
      "20\n",
      "10\n"
     ]
    }
   ],
   "source": [
    "for i in range(100,1,-10):\n",
    "    print(i)"
   ]
  },
  {
   "cell_type": "code",
   "execution_count": 14,
   "metadata": {},
   "outputs": [
    {
     "name": "stdout",
     "output_type": "stream",
     "text": [
      "hi 1\n",
      "hi 3\n",
      "hi 5\n",
      "hi 7\n",
      "hi 9\n"
     ]
    }
   ],
   "source": [
    "for i in range(1,10,2):\n",
    "    print('hi',i)"
   ]
  },
  {
   "cell_type": "markdown",
   "metadata": {},
   "source": [
    "# Assingment1 PrimeNumber"
   ]
  },
  {
   "cell_type": "markdown",
   "metadata": {},
   "source": [
    "Program check prime number"
   ]
  },
  {
   "cell_type": "markdown",
   "metadata": {},
   "source": [
    "# list"
   ]
  },
  {
   "cell_type": "code",
   "execution_count": 16,
   "metadata": {},
   "outputs": [
    {
     "data": {
      "text/plain": [
       "list"
      ]
     },
     "execution_count": 16,
     "metadata": {},
     "output_type": "execute_result"
    }
   ],
   "source": [
    "x = []\n",
    "type(x)"
   ]
  },
  {
   "cell_type": "code",
   "execution_count": 5,
   "metadata": {},
   "outputs": [
    {
     "name": "stdout",
     "output_type": "stream",
     "text": [
      "[1, 2, 3, 4, 5, 6]\n"
     ]
    }
   ],
   "source": [
    "y = [1,2,3,4,5,6]\n",
    "print(y)"
   ]
  },
  {
   "cell_type": "code",
   "execution_count": 19,
   "metadata": {},
   "outputs": [
    {
     "data": {
      "text/plain": [
       "3"
      ]
     },
     "execution_count": 19,
     "metadata": {},
     "output_type": "execute_result"
    }
   ],
   "source": [
    "z = [0,0,0]\n",
    "len(z)"
   ]
  },
  {
   "cell_type": "code",
   "execution_count": 22,
   "metadata": {},
   "outputs": [
    {
     "name": "stdout",
     "output_type": "stream",
     "text": [
      "[1, 2, 3, 4, 5]\n"
     ]
    }
   ],
   "source": [
    "a = [1,2,3,4]\n",
    "a.append(5)\n",
    "print(a)"
   ]
  },
  {
   "cell_type": "code",
   "execution_count": 30,
   "metadata": {},
   "outputs": [
    {
     "name": "stdout",
     "output_type": "stream",
     "text": [
      "[1, 2, 'HI', 3, 4, 1, 1, 1]\n"
     ]
    }
   ],
   "source": [
    "b = [1,2,3,4]\n",
    "b.insert(2,\"HI\")\n",
    "print(b)"
   ]
  },
  {
   "cell_type": "code",
   "execution_count": 32,
   "metadata": {
    "scrolled": false
   },
   "outputs": [
    {
     "name": "stdout",
     "output_type": "stream",
     "text": [
      "[4, 2, 1, 1, 4, 2, 3, 1, 2, 5, 1, 4, 3, 3, 4, 4, 4, 4, 2, 1, 5, 4, 4, 5, 4, 3, 2, 1, 5, 1, 5, 4, 5, 1, 2, 2, 1, 3, 2, 2, 3, 4, 5, 1, 1, 3, 3, 1, 3, 5, 4, 5, 4, 2, 2, 1, 3, 2, 3, 4, 4, 3, 2, 2, 3, 1, 5, 5, 2, 1, 3, 1, 2, 4, 4, 5, 4, 3, 1, 5, 1, 1, 2, 4, 5, 3, 5, 3, 4, 3, 4, 4, 4, 3, 3, 1, 2, 1, 3, 5, 1, 4, 1, 1, 4, 4, 3, 5, 4, 4, 4, 2, 5, 3, 3, 2, 3, 2, 4, 4, 2, 4, 1, 4, 3, 2, 2, 5, 1, 1, 2, 1, 3, 1, 2, 4, 5, 4, 5, 1, 5, 5, 4, 3, 2, 5, 4, 2, 2, 3, 1, 2, 4, 3, 4, 2, 4, 3, 5, 2, 3, 2, 3, 3, 1, 2, 2, 1, 1, 1, 5, 3, 5, 2, 2, 4, 2, 5, 4, 3, 3, 1, 4, 3, 3, 4, 5, 4, 4, 5, 3, 4, 3, 4, 2, 5, 1, 4, 1, 3, 4, 3, 1, 2, 2, 5, 4, 5, 4, 3, 1, 4, 4, 2, 4, 5, 5, 3, 4, 5, 3, 5, 3, 2, 3, 3, 2, 5, 2, 2, 4, 4, 4, 1, 5, 1, 5, 2, 1, 2, 1, 5, 1, 3, 2, 3, 2, 1, 4, 2, 2, 1, 5, 4, 2, 1, 2, 5, 1, 4, 1, 3, 4, 4, 5, 5, 2, 5, 1, 1, 2, 5, 3, 5, 4, 2, 1, 4, 1, 2, 5, 3, 4, 4, 4, 1, 3, 2, 3, 4, 5, 2, 2, 4, 5, 4, 2, 1, 2, 4, 2, 1, 5, 5, 2, 2, 1, 1, 3, 5, 4, 1, 3, 5, 4, 1, 2, 1, 1, 3, 3, 3, 4, 4, 2, 3, 5, 2, 1, 3, 4, 5, 5, 1, 4, 1, 1, 2, 3, 5, 2, 4, 1, 5, 5, 5, 3, 2, 1, 4, 2, 3, 2, 2, 4, 3, 5, 1, 3, 5, 1, 5, 5, 4, 1, 1, 4, 3, 3, 1, 5, 3, 2, 1, 3, 5, 2, 5, 3, 3, 4, 4, 3, 5, 3, 5, 1, 4, 4, 4, 4, 2, 1, 3, 1, 4, 4, 3, 1, 4, 3, 5, 4, 1, 5, 3, 5, 4, 2, 4, 1, 1, 2, 4, 2, 1, 3, 3, 5, 3, 1, 2, 1, 4, 2, 5, 4, 4, 1, 2, 5, 3, 2, 3, 3, 1, 2, 1, 2, 4, 3, 4, 5, 2, 2, 2, 3, 1, 1, 4, 3, 5, 1, 4, 5, 1, 3, 1, 1, 2, 4, 4, 3, 2, 1, 5, 5, 2, 2, 5, 1, 3, 2, 4, 4, 4, 2, 4, 3, 1, 3, 1, 5, 1, 2, 4, 3, 3, 4, 3, 1, 3, 1, 5, 1, 3, 4, 1, 1, 1, 4, 1, 2, 4, 2, 3, 2, 2, 3, 5, 4, 4, 4, 2, 5, 3, 5, 1, 5, 1, 2, 1, 5, 1, 5, 3, 3, 5, 2, 1, 4, 5, 5, 1, 5, 2, 4, 3, 4, 2, 3, 5, 4, 5, 3, 1, 3, 4, 5, 3, 1, 2, 4, 5, 3, 1, 2, 3, 4, 1, 3, 5, 2, 3, 3, 5, 2, 3, 3, 3, 3, 3, 1, 5, 2, 1, 1, 2, 3, 3, 2, 4, 1, 4, 5, 1, 2, 5, 3, 1, 1, 2, 2, 5, 5, 5, 1, 5, 3, 3, 1, 4, 3, 5, 2, 4, 3, 1, 4, 2, 2, 1, 4, 2, 2, 3, 5, 2, 1, 3, 2, 2, 5, 4, 2, 3, 5, 2, 5, 1, 2, 4, 3, 1, 4, 4, 3, 2, 4, 4, 1, 2, 2, 1, 5, 5, 5, 5, 5, 1, 4, 1, 3, 2, 5, 5, 4, 1, 4, 3, 2, 1, 5, 3, 2, 3, 4, 5, 2, 3, 5, 4, 4, 1, 5, 2, 4, 1, 1, 4, 1, 5, 2, 4, 1, 3, 5, 1, 3, 5, 1, 1, 3, 5, 1, 3, 1, 2, 5, 4, 1, 4, 1, 1, 5, 1, 2, 5, 4, 4, 4, 5, 5, 1, 5, 1, 5, 3, 1, 3, 5, 5, 5, 5, 3, 3, 5, 3, 4, 1, 3, 2, 5, 3, 1, 5, 2, 3, 3, 2, 2, 2, 3, 3, 3, 2, 1, 1, 4, 4, 2, 5, 1, 4, 1, 3, 4, 1, 2, 2, 1, 3, 1, 1, 3, 3, 5, 5, 5, 5, 1, 3, 5, 3, 5, 2, 2, 2, 1, 3, 3, 5, 1, 1, 2, 5, 2, 4, 2, 5, 1, 1, 3, 2, 2, 1, 5, 1, 1, 5, 4, 3, 4, 5, 5, 3, 1, 2, 5, 2, 3, 4, 4, 2, 1, 1, 3, 2, 1, 2, 4, 4, 1, 1, 4, 5, 4, 4, 5, 4, 5, 3, 4, 4, 3, 1, 2, 1, 3, 4, 2, 2, 2, 3, 3, 1, 3, 5, 4, 4, 4, 4, 2, 3, 1, 3, 5, 4, 1, 3, 5, 4, 5, 5, 4, 4, 4, 4, 2, 4, 2, 5, 4, 5, 3, 4, 1, 5, 2, 5, 3, 3, 5, 1, 5, 1, 5, 5, 3, 5, 5, 5, 2, 1, 2, 1, 4, 2, 1, 1, 5, 3, 2, 4, 2, 1, 4, 2, 3, 4, 5, 3, 1, 1, 5, 2, 2, 4, 2, 2, 5, 3, 3, 5, 4, 4, 5, 2, 3, 4, 1, 1, 4, 4, 4, 1, 5, 1, 3, 2, 4, 3, 5, 1, 5, 1, 2, 1, 1, 5, 5, 4, 4, 1, 5, 5, 5, 1, 2, 5, 5, 3, 3, 5, 5, 4, 2, 3, 4, 5, 1, 1, 2, 5, 1, 4, 3, 2, 2, 2, 1, 2, 1, 2, 3, 5, 5, 5, 1, 4, 4, 1, 1, 5, 5, 4, 3, 2, 2, 4]\n"
     ]
    }
   ],
   "source": [
    "import random\n",
    "c = []\n",
    "for i in range(1000):\n",
    "    c.append(random.randint(1,5))\n",
    "print(c)"
   ]
  },
  {
   "cell_type": "code",
   "execution_count": 33,
   "metadata": {},
   "outputs": [
    {
     "data": {
      "text/plain": [
       "205"
      ]
     },
     "execution_count": 33,
     "metadata": {},
     "output_type": "execute_result"
    }
   ],
   "source": [
    "c.count(4)"
   ]
  },
  {
   "cell_type": "code",
   "execution_count": 38,
   "metadata": {},
   "outputs": [
    {
     "name": "stdout",
     "output_type": "stream",
     "text": [
      "[1, 1, 1, 1, 1, 1, 1, 1, 1, 1, 1, 1, 1, 1, 1, 1, 1, 1, 1, 1, 1, 1, 1, 1, 1, 1, 1, 1, 1, 1, 1, 1, 1, 1, 1, 1, 1, 1, 1, 1, 1, 1, 1, 1, 1, 1, 1, 1, 1, 1, 1, 1, 1, 1, 1, 1, 1, 1, 1, 1, 1, 1, 1, 1, 1, 1, 1, 1, 1, 1, 1, 1, 1, 1, 1, 1, 1, 1, 1, 1, 1, 1, 1, 1, 1, 1, 1, 1, 1, 1, 1, 1, 1, 1, 1, 1, 1, 1, 1, 1, 1, 1, 1, 1, 1, 1, 1, 1, 1, 1, 1, 1, 1, 1, 1, 1, 1, 1, 1, 1, 1, 1, 1, 1, 1, 1, 1, 1, 1, 1, 1, 1, 1, 1, 1, 1, 1, 1, 1, 1, 1, 1, 1, 1, 1, 1, 1, 1, 1, 1, 1, 1, 1, 1, 1, 1, 1, 1, 1, 1, 1, 1, 1, 1, 1, 1, 1, 1, 1, 1, 1, 1, 1, 1, 1, 1, 1, 1, 1, 1, 1, 1, 1, 1, 1, 1, 1, 1, 1, 1, 1, 1, 1, 1, 1, 1, 1, 1, 1, 1, 1, 1, 1, 1, 1, 1, 1, 1, 1, 1, 1, 2, 2, 2, 2, 2, 2, 2, 2, 2, 2, 2, 2, 2, 2, 2, 2, 2, 2, 2, 2, 2, 2, 2, 2, 2, 2, 2, 2, 2, 2, 2, 2, 2, 2, 2, 2, 2, 2, 2, 2, 2, 2, 2, 2, 2, 2, 2, 2, 2, 2, 2, 2, 2, 2, 2, 2, 2, 2, 2, 2, 2, 2, 2, 2, 2, 2, 2, 2, 2, 2, 2, 2, 2, 2, 2, 2, 2, 2, 2, 2, 2, 2, 2, 2, 2, 2, 2, 2, 2, 2, 2, 2, 2, 2, 2, 2, 2, 2, 2, 2, 2, 2, 2, 2, 2, 2, 2, 2, 2, 2, 2, 2, 2, 2, 2, 2, 2, 2, 2, 2, 2, 2, 2, 2, 2, 2, 2, 2, 2, 2, 2, 2, 2, 2, 2, 2, 2, 2, 2, 2, 2, 2, 2, 2, 2, 2, 2, 2, 2, 2, 2, 2, 2, 2, 2, 2, 2, 2, 2, 2, 2, 2, 2, 2, 2, 2, 2, 2, 2, 2, 2, 2, 2, 2, 2, 2, 2, 2, 2, 2, 2, 2, 2, 2, 2, 2, 2, 2, 2, 2, 2, 3, 3, 3, 3, 3, 3, 3, 3, 3, 3, 3, 3, 3, 3, 3, 3, 3, 3, 3, 3, 3, 3, 3, 3, 3, 3, 3, 3, 3, 3, 3, 3, 3, 3, 3, 3, 3, 3, 3, 3, 3, 3, 3, 3, 3, 3, 3, 3, 3, 3, 3, 3, 3, 3, 3, 3, 3, 3, 3, 3, 3, 3, 3, 3, 3, 3, 3, 3, 3, 3, 3, 3, 3, 3, 3, 3, 3, 3, 3, 3, 3, 3, 3, 3, 3, 3, 3, 3, 3, 3, 3, 3, 3, 3, 3, 3, 3, 3, 3, 3, 3, 3, 3, 3, 3, 3, 3, 3, 3, 3, 3, 3, 3, 3, 3, 3, 3, 3, 3, 3, 3, 3, 3, 3, 3, 3, 3, 3, 3, 3, 3, 3, 3, 3, 3, 3, 3, 3, 3, 3, 3, 3, 3, 3, 3, 3, 3, 3, 3, 3, 3, 3, 3, 3, 3, 3, 3, 3, 3, 3, 3, 3, 3, 3, 3, 3, 3, 3, 3, 3, 3, 3, 3, 3, 3, 3, 3, 3, 3, 3, 3, 3, 3, 3, 3, 3, 3, 3, 3, 3, 3, 3, 4, 4, 4, 4, 4, 4, 4, 4, 4, 4, 4, 4, 4, 4, 4, 4, 4, 4, 4, 4, 4, 4, 4, 4, 4, 4, 4, 4, 4, 4, 4, 4, 4, 4, 4, 4, 4, 4, 4, 4, 4, 4, 4, 4, 4, 4, 4, 4, 4, 4, 4, 4, 4, 4, 4, 4, 4, 4, 4, 4, 4, 4, 4, 4, 4, 4, 4, 4, 4, 4, 4, 4, 4, 4, 4, 4, 4, 4, 4, 4, 4, 4, 4, 4, 4, 4, 4, 4, 4, 4, 4, 4, 4, 4, 4, 4, 4, 4, 4, 4, 4, 4, 4, 4, 4, 4, 4, 4, 4, 4, 4, 4, 4, 4, 4, 4, 4, 4, 4, 4, 4, 4, 4, 4, 4, 4, 4, 4, 4, 4, 4, 4, 4, 4, 4, 4, 4, 4, 4, 4, 4, 4, 4, 4, 4, 4, 4, 4, 4, 4, 4, 4, 4, 4, 4, 4, 4, 4, 4, 4, 4, 4, 4, 4, 4, 4, 4, 4, 4, 4, 4, 4, 4, 4, 4, 4, 4, 4, 4, 4, 4, 4, 4, 4, 4, 4, 4, 4, 4, 4, 4, 4, 4, 4, 4, 4, 4, 4, 4, 4, 4, 4, 4, 4, 4, 5, 5, 5, 5, 5, 5, 5, 5, 5, 5, 5, 5, 5, 5, 5, 5, 5, 5, 5, 5, 5, 5, 5, 5, 5, 5, 5, 5, 5, 5, 5, 5, 5, 5, 5, 5, 5, 5, 5, 5, 5, 5, 5, 5, 5, 5, 5, 5, 5, 5, 5, 5, 5, 5, 5, 5, 5, 5, 5, 5, 5, 5, 5, 5, 5, 5, 5, 5, 5, 5, 5, 5, 5, 5, 5, 5, 5, 5, 5, 5, 5, 5, 5, 5, 5, 5, 5, 5, 5, 5, 5, 5, 5, 5, 5, 5, 5, 5, 5, 5, 5, 5, 5, 5, 5, 5, 5, 5, 5, 5, 5, 5, 5, 5, 5, 5, 5, 5, 5, 5, 5, 5, 5, 5, 5, 5, 5, 5, 5, 5, 5, 5, 5, 5, 5, 5, 5, 5, 5, 5, 5, 5, 5, 5, 5, 5, 5, 5, 5, 5, 5, 5, 5, 5, 5, 5, 5, 5, 5, 5, 5, 5, 5, 5, 5, 5, 5, 5, 5, 5, 5, 5, 5, 5, 5, 5, 5, 5, 5, 5, 5, 5, 5, 5, 5, 5, 5, 5, 5, 5, 5, 5, 5, 5, 5, 5, 5, 5, 5, 5, 5]\n"
     ]
    }
   ],
   "source": [
    "c.sort()\n",
    "print(c)"
   ]
  },
  {
   "cell_type": "code",
   "execution_count": 3,
   "metadata": {},
   "outputs": [
    {
     "name": "stdout",
     "output_type": "stream",
     "text": [
      "['ant', 'bird', 'cat', 'dog']\n"
     ]
    }
   ],
   "source": [
    "d = ['bird','ant','dog','cat']\n",
    "d.sort()\n",
    "print(d)"
   ]
  },
  {
   "cell_type": "markdown",
   "metadata": {},
   "source": [
    "# Tuple"
   ]
  },
  {
   "cell_type": "code",
   "execution_count": 10,
   "metadata": {},
   "outputs": [
    {
     "data": {
      "text/plain": [
       "2"
      ]
     },
     "execution_count": 10,
     "metadata": {},
     "output_type": "execute_result"
    }
   ],
   "source": [
    "e = [1,2,3,4,5,6]\n",
    "e[1]"
   ]
  },
  {
   "cell_type": "code",
   "execution_count": 11,
   "metadata": {},
   "outputs": [
    {
     "data": {
      "text/plain": [
       "6"
      ]
     },
     "execution_count": 11,
     "metadata": {},
     "output_type": "execute_result"
    }
   ],
   "source": [
    "e = [1,2,3,4,5,6]\n",
    "e[-1]"
   ]
  },
  {
   "cell_type": "code",
   "execution_count": 12,
   "metadata": {},
   "outputs": [
    {
     "data": {
      "text/plain": [
       "'ant'"
      ]
     },
     "execution_count": 12,
     "metadata": {},
     "output_type": "execute_result"
    }
   ],
   "source": [
    "d = ['bird','ant','dog','cat']\n",
    "d[1]"
   ]
  },
  {
   "cell_type": "markdown",
   "metadata": {},
   "source": [
    "# Dictionaries"
   ]
  },
  {
   "cell_type": "code",
   "execution_count": 17,
   "metadata": {},
   "outputs": [
    {
     "data": {
      "text/plain": [
       "515"
      ]
     },
     "execution_count": 17,
     "metadata": {},
     "output_type": "execute_result"
    }
   ],
   "source": [
    "level = {'m6':615,'m5':515,'m4':415}\n",
    "level['m5']"
   ]
  },
  {
   "cell_type": "code",
   "execution_count": 18,
   "metadata": {},
   "outputs": [
    {
     "data": {
      "text/plain": [
       "'cat'"
      ]
     },
     "execution_count": 18,
     "metadata": {},
     "output_type": "execute_result"
    }
   ],
   "source": [
    "dicts = {'a':'ant', 'b':'bird', 'c':'cat', 'd':'dog'}\n",
    "dicts['c']"
   ]
  },
  {
   "cell_type": "code",
   "execution_count": 19,
   "metadata": {},
   "outputs": [
    {
     "data": {
      "text/plain": [
       "'cow'"
      ]
     },
     "execution_count": 19,
     "metadata": {},
     "output_type": "execute_result"
    }
   ],
   "source": [
    "dicts['c'] = 'cow'\n",
    "dicts['c']"
   ]
  },
  {
   "cell_type": "code",
   "execution_count": 22,
   "metadata": {},
   "outputs": [
    {
     "data": {
      "text/plain": [
       "True"
      ]
     },
     "execution_count": 22,
     "metadata": {},
     "output_type": "execute_result"
    }
   ],
   "source": [
    "'a' in dicts"
   ]
  },
  {
   "cell_type": "code",
   "execution_count": 23,
   "metadata": {},
   "outputs": [
    {
     "data": {
      "text/plain": [
       "False"
      ]
     },
     "execution_count": 23,
     "metadata": {},
     "output_type": "execute_result"
    }
   ],
   "source": [
    "'a' not in dicts"
   ]
  },
  {
   "cell_type": "markdown",
   "metadata": {},
   "source": [
    "# Assingment 2"
   ]
  },
  {
   "cell_type": "markdown",
   "metadata": {},
   "source": [
    "Program count word"
   ]
  },
  {
   "cell_type": "code",
   "execution_count": null,
   "metadata": {},
   "outputs": [],
   "source": []
  }
 ],
 "metadata": {
  "kernelspec": {
   "display_name": "Python 3",
   "language": "python",
   "name": "python3"
  },
  "language_info": {
   "codemirror_mode": {
    "name": "ipython",
    "version": 3
   },
   "file_extension": ".py",
   "mimetype": "text/x-python",
   "name": "python",
   "nbconvert_exporter": "python",
   "pygments_lexer": "ipython3",
   "version": "3.6.5"
  }
 },
 "nbformat": 4,
 "nbformat_minor": 2
}
